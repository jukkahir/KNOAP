{
 "cells": [
  {
   "cell_type": "code",
   "execution_count": 1,
   "metadata": {},
   "outputs": [],
   "source": [
    "import pandas as pd"
   ]
  },
  {
   "cell_type": "code",
   "execution_count": 2,
   "metadata": {},
   "outputs": [],
   "source": [
    "OAI_leaderboard_test = pd.read_csv('TeamName-Index_Leaderboard_Submission_KNOAP.csv')\n",
    "OAI_KNOAP_matched = pd.read_csv('OAI_KNOAP_matched_data.csv')\n",
    "OAI_all = pd.read_csv('OAI_all_knees_data.csv')"
   ]
  },
  {
   "cell_type": "code",
   "execution_count": 3,
   "metadata": {},
   "outputs": [],
   "source": [
    "mask1 = OAI_KNOAP_matched['Knee'].isin(OAI_leaderboard_test['Knee'])\n",
    "OAI_KNOAP_matched_train=OAI_KNOAP_matched.loc[~mask1].copy()\n",
    "OAI_KNOAP_matched_test=OAI_KNOAP_matched.loc[mask1].copy()\n",
    "\n",
    "mask2 = OAI_all['Knee'].isin(OAI_leaderboard_test['Knee'])\n",
    "OAI_all_train=OAI_all.loc[~mask2].copy()"
   ]
  },
  {
   "cell_type": "code",
   "execution_count": 4,
   "metadata": {},
   "outputs": [],
   "source": [
    "OAI_KNOAP_matched_train.to_csv('OAI_KNOAP_matched_leaderboard_train.csv', columns = ['Knee','Age','BMI','Gender','KL','Varus','Tenderness','Injury_history','Mild_symptoms','Heberden','Crepitus','Morning_stiffness','Postmenopausal_status','iSROA'], index=False)\n",
    "OAI_KNOAP_matched_test.to_csv('OAI_leaderboard_test.csv', columns = ['Knee','Age','BMI','Gender','KL','Varus','Tenderness','Injury_history','Mild_symptoms','Heberden','Crepitus','Morning_stiffness','Postmenopausal_status','iSROA'], index=False)\n",
    "OAI_all_train.to_csv('OAI_all_leaderboard_train.csv', columns = ['Knee','Age','BMI','Gender','KL','Varus','Tenderness','Injury_history','Mild_symptoms','Heberden','Crepitus','Morning_stiffness','Postmenopausal_status','iSROA'], index=False)"
   ]
  },
  {
   "cell_type": "code",
   "execution_count": null,
   "metadata": {},
   "outputs": [],
   "source": []
  }
 ],
 "metadata": {
  "kernelspec": {
   "display_name": "Python 3",
   "language": "python",
   "name": "python3"
  },
  "language_info": {
   "codemirror_mode": {
    "name": "ipython",
    "version": 3
   },
   "file_extension": ".py",
   "mimetype": "text/x-python",
   "name": "python",
   "nbconvert_exporter": "python",
   "pygments_lexer": "ipython3",
   "version": "3.7.2"
  }
 },
 "nbformat": 4,
 "nbformat_minor": 2
}
