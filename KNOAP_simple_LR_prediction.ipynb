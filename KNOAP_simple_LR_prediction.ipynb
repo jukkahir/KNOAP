{
 "cells": [
  {
   "cell_type": "code",
   "execution_count": 1,
   "metadata": {},
   "outputs": [],
   "source": [
    "import pandas as pd\n",
    "from sklearn.linear_model import LogisticRegression\n",
    "from sklearn.metrics import roc_auc_score, balanced_accuracy_score"
   ]
  },
  {
   "cell_type": "code",
   "execution_count": 2,
   "metadata": {},
   "outputs": [],
   "source": [
    "OAI_train = pd.read_csv(\"C:/Users/Jukka/Documents/Research/KNOAP/training_data_generation/leaderboard_csv/OAI_KNOAP_matched_leaderboard_train.csv\")\n",
    "OAI_test = pd.read_csv(\"C:/Users/Jukka/Documents/Research/KNOAP/training_data_generation/leaderboard_csv/OAI_leaderboard_test.csv\")"
   ]
  },
  {
   "cell_type": "code",
   "execution_count": 3,
   "metadata": {},
   "outputs": [],
   "source": [
    "X_train = OAI_train[['Age','BMI','KL']].copy()\n",
    "X_test = OAI_test[['Age','BMI','KL']].copy()\n",
    "y_train = OAI_train['iSROA'].copy()\n",
    "y_test = OAI_test['iSROA'].copy()"
   ]
  },
  {
   "cell_type": "code",
   "execution_count": 4,
   "metadata": {},
   "outputs": [
    {
     "name": "stdout",
     "output_type": "stream",
     "text": [
      "ROC AUC of Logistic regression classifier on test set: 0.68\n"
     ]
    }
   ],
   "source": [
    "logreg = LogisticRegression()\n",
    "logreg.fit(X_train, y_train)\n",
    "probs = logreg.predict_proba(X_test)\n",
    "print('ROC AUC of Logistic regression classifier on test set: {:.2f}'.format(roc_auc_score(y_test,probs[:,1])))"
   ]
  },
  {
   "cell_type": "code",
   "execution_count": 5,
   "metadata": {},
   "outputs": [],
   "source": [
    "probs = pd.DataFrame(probs)\n",
    "IDs = OAI_test['Knee'].copy()\n",
    "\n",
    "df_out = pd.concat([IDs,probs],axis=1)\n",
    "df_out=df_out.rename(columns={0:'Control_probability',1:'iSROA_probability'})\n",
    "df_out.to_csv('KNOAP_LR_predictions.csv',index=False)"
   ]
  },
  {
   "cell_type": "code",
   "execution_count": null,
   "metadata": {},
   "outputs": [],
   "source": []
  }
 ],
 "metadata": {
  "kernelspec": {
   "display_name": "Python 3",
   "language": "python",
   "name": "python3"
  },
  "language_info": {
   "codemirror_mode": {
    "name": "ipython",
    "version": 3
   },
   "file_extension": ".py",
   "mimetype": "text/x-python",
   "name": "python",
   "nbconvert_exporter": "python",
   "pygments_lexer": "ipython3",
   "version": "3.7.2"
  }
 },
 "nbformat": 4,
 "nbformat_minor": 2
}
