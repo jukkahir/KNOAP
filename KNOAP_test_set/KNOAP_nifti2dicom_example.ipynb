{
 "cells": [
  {
   "cell_type": "markdown",
   "metadata": {},
   "source": [
    "# Convert nifti to dicom\n",
    "This is a simple example script to convert nifti files to dicom files using SimpleITK."
   ]
  },
  {
   "cell_type": "code",
   "execution_count": null,
   "metadata": {},
   "outputs": [],
   "source": [
    "import os\n",
    "import SimpleITK as sitk"
   ]
  },
  {
   "cell_type": "code",
   "execution_count": null,
   "metadata": {},
   "outputs": [],
   "source": [
    "Xrays_path = './XR/'\n",
    "\n",
    "X_rays_final = os.listdir(Xrays_path)\n",
    "print(\"X-rays final:\",len(X_rays_final))"
   ]
  },
  {
   "cell_type": "code",
   "execution_count": null,
   "metadata": {},
   "outputs": [],
   "source": [
    "for subject in sorted(X_rays_final):\n",
    "    print(\"subject:\",subject)\n",
    "    im_path = Xrays_path + subject+'/scans/1-Knee_XR/resources/NIFTI/files/files/'+subject+'.nii.gz'\n",
    "\n",
    "    nifti_reader = sitk.ImageFileReader()\n",
    "    nifti_reader.SetImageIO(\"NiftiImageIO\")\n",
    "    nifti_reader.SetFileName(im_path)\n",
    "    nifti_image = nifti_reader.Execute()\n",
    "    \n",
    "    dicom_writer = sitk.ImageFileWriter()\n",
    "    dicom_writer.SetImageIO(\"GDCMImageIO\")\n",
    "    image_out = './DICOM/'+subject+'.dcm'\n",
    "    dicom_writer.SetFileName(image_out)\n",
    "    dicom_writer.Execute(nifti_image)"
   ]
  }
 ],
 "metadata": {
  "kernelspec": {
   "display_name": "Python 3",
   "language": "python",
   "name": "python3"
  },
  "language_info": {
   "codemirror_mode": {
    "name": "ipython",
    "version": 3
   },
   "file_extension": ".py",
   "mimetype": "text/x-python",
   "name": "python",
   "nbconvert_exporter": "python",
   "pygments_lexer": "ipython3",
   "version": "3.7.2"
  }
 },
 "nbformat": 4,
 "nbformat_minor": 2
}
